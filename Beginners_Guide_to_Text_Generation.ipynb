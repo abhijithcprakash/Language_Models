{
  "nbformat": 4,
  "nbformat_minor": 0,
  "metadata": {
    "colab": {
      "provenance": [],
      "gpuType": "T4",
      "authorship_tag": "ABX9TyMNUhimslxapWnAHsTvKv3q",
      "include_colab_link": true
    },
    "kernelspec": {
      "name": "python3",
      "display_name": "Python 3"
    },
    "language_info": {
      "name": "python"
    },
    "accelerator": "GPU"
  },
  "cells": [
    {
      "cell_type": "markdown",
      "metadata": {
        "id": "view-in-github",
        "colab_type": "text"
      },
      "source": [
        "<a href=\"https://colab.research.google.com/github/abhijithcprakash/Large_Language_Models/blob/main/Beginners_Guide_to_Text_Generation.ipynb\" target=\"_parent\"><img src=\"https://colab.research.google.com/assets/colab-badge.svg\" alt=\"Open In Colab\"/></a>"
      ]
    },
    {
      "cell_type": "markdown",
      "source": [
        "Create the Environment"
      ],
      "metadata": {
        "id": "qlX5juM9dopt"
      }
    },
    {
      "cell_type": "code",
      "execution_count": null,
      "metadata": {
        "id": "toAQtlCMZANA"
      },
      "outputs": [],
      "source": [
        "import numpy as np\n",
        "import tensorflow as tf\n",
        "from tensorflow import keras\n",
        "from tensorflow.keras.layers import Dense, LSTM, Embedding\n",
        "import matplotlib.pyplot as plt"
      ]
    },
    {
      "cell_type": "markdown",
      "source": [
        "Download Text Data"
      ],
      "metadata": {
        "id": "LwDCiexcdwGZ"
      }
    },
    {
      "cell_type": "code",
      "source": [
        "file_URL = \"https://storage.googleapis.com/download.tensorflow.org/data/shakespeare.txt\"\n",
        "file_name= \"shakespeare.txt\"\n",
        "# get the file path\n",
        "path = keras.utils.get_file(file_name, file_URL)"
      ],
      "metadata": {
        "colab": {
          "base_uri": "https://localhost:8080/"
        },
        "id": "h9c5WkP4duB9",
        "outputId": "c23d494c-be0b-422c-82ee-10ddc6abe775"
      },
      "execution_count": null,
      "outputs": [
        {
          "output_type": "stream",
          "name": "stdout",
          "text": [
            "Downloading data from https://storage.googleapis.com/download.tensorflow.org/data/shakespeare.txt\n",
            "1115394/1115394 [==============================] - 0s 0us/step\n"
          ]
        }
      ]
    },
    {
      "cell_type": "code",
      "source": [
        "raw = open(path, 'rb').read()\n",
        "print(raw[250:400])"
      ],
      "metadata": {
        "colab": {
          "base_uri": "https://localhost:8080/"
        },
        "id": "xwCcsfh0d0VW",
        "outputId": "565d5192-4879-4fb8-e198-664bb94319b5"
      },
      "execution_count": null,
      "outputs": [
        {
          "output_type": "stream",
          "name": "stdout",
          "text": [
            "b\"\\nAll:\\nWe know't, we know't.\\n\\nFirst Citizen:\\nLet us kill him, and we'll have corn at our own price.\\nIs't a verdict?\\n\\nAll:\\nNo more talking on't; let it \"\n"
          ]
        }
      ]
    },
    {
      "cell_type": "code",
      "source": [
        "text = raw.decode(encoding='utf-8')\n",
        "print(text[250:400])"
      ],
      "metadata": {
        "colab": {
          "base_uri": "https://localhost:8080/"
        },
        "id": "EAx_G8ecd5Ub",
        "outputId": "303baa86-9e5e-4c4a-efbb-e3f23f9f27f8"
      },
      "execution_count": null,
      "outputs": [
        {
          "output_type": "stream",
          "name": "stdout",
          "text": [
            "\n",
            "All:\n",
            "We know't, we know't.\n",
            "\n",
            "First Citizen:\n",
            "Let us kill him, and we'll have corn at our own price.\n",
            "Is't a verdict?\n",
            "\n",
            "All:\n",
            "No more talking on't; let it \n"
          ]
        }
      ]
    },
    {
      "cell_type": "code",
      "source": [
        "len(text)"
      ],
      "metadata": {
        "colab": {
          "base_uri": "https://localhost:8080/"
        },
        "id": "y9Gk-JUGd_G7",
        "outputId": "ff78f51c-2327-4598-b64b-daf5bef59e86"
      },
      "execution_count": null,
      "outputs": [
        {
          "output_type": "execute_result",
          "data": {
            "text/plain": [
              "1115394"
            ]
          },
          "metadata": {},
          "execution_count": 5
        }
      ]
    },
    {
      "cell_type": "markdown",
      "source": [
        "Vectorize Word Characters into Integers"
      ],
      "metadata": {
        "id": "DLqsPS4AeFFI"
      }
    },
    {
      "cell_type": "code",
      "source": [
        "# unique characters\n",
        "vocabulary = np.array(sorted(set(text)))\n",
        "len(vocabulary)"
      ],
      "metadata": {
        "colab": {
          "base_uri": "https://localhost:8080/"
        },
        "id": "RqIs5JAteCNy",
        "outputId": "55df5a7f-5e03-464f-ac5c-249a080c5032"
      },
      "execution_count": null,
      "outputs": [
        {
          "output_type": "execute_result",
          "data": {
            "text/plain": [
              "65"
            ]
          },
          "metadata": {},
          "execution_count": 6
        }
      ]
    },
    {
      "cell_type": "markdown",
      "source": [
        "Define a tokenizer that can convert a text character into a corresponding integer. There will be 65 integers starting from 0 and ending at 64. We can assign integers on our own as per the order of characters in the vocabulary."
      ],
      "metadata": {
        "id": "REmeHCtSeaPD"
      }
    },
    {
      "cell_type": "code",
      "source": [
        "# assign an integer to each character\n",
        "tokenizer = {char:i for i,char in enumerate(vocabulary)}"
      ],
      "metadata": {
        "id": "U1tpWsl_eVA5"
      },
      "execution_count": null,
      "outputs": []
    },
    {
      "cell_type": "code",
      "source": [
        "for i in range(20):\n",
        "  char = vocabulary[i]\n",
        "  token = tokenizer[char]\n",
        "  print('%4s : %4d'%(repr(char),token))"
      ],
      "metadata": {
        "colab": {
          "base_uri": "https://localhost:8080/"
        },
        "id": "4ePGFF2xej0n",
        "outputId": "cc4f92b1-e678-40a5-9857-9bb18a9c391b"
      },
      "execution_count": null,
      "outputs": [
        {
          "output_type": "stream",
          "name": "stdout",
          "text": [
            "'\\n' :    0\n",
            " ' ' :    1\n",
            " '!' :    2\n",
            " '$' :    3\n",
            " '&' :    4\n",
            " \"'\" :    5\n",
            " ',' :    6\n",
            " '-' :    7\n",
            " '.' :    8\n",
            " '3' :    9\n",
            " ':' :   10\n",
            " ';' :   11\n",
            " '?' :   12\n",
            " 'A' :   13\n",
            " 'B' :   14\n",
            " 'C' :   15\n",
            " 'D' :   16\n",
            " 'E' :   17\n",
            " 'F' :   18\n",
            " 'G' :   19\n"
          ]
        }
      ]
    },
    {
      "cell_type": "markdown",
      "source": [
        "Vectorize the entire text and check whether the built tokenizer can encode and decode – texts and integers properly."
      ],
      "metadata": {
        "id": "0fq9Q0PTeyP2"
      }
    },
    {
      "cell_type": "code",
      "source": [
        "vector = np.array([tokenizer[char] for char in text])\n",
        "print('\\nSample Text \\n')\n",
        "print('-'*70)\n",
        "print(text[:100])\n",
        "print('-'*70)\n",
        "print('\\n\\nCorresponding Integer Vector \\n')\n",
        "print('-'*70)\n",
        "print(vector[:100])\n",
        "print('-'*70)"
      ],
      "metadata": {
        "colab": {
          "base_uri": "https://localhost:8080/"
        },
        "id": "yiXuAuFNes13",
        "outputId": "cff05ef4-4a01-4bc7-974d-33e53a1fb850"
      },
      "execution_count": null,
      "outputs": [
        {
          "output_type": "stream",
          "name": "stdout",
          "text": [
            "\n",
            "Sample Text \n",
            "\n",
            "----------------------------------------------------------------------\n",
            "First Citizen:\n",
            "Before we proceed any further, hear me speak.\n",
            "\n",
            "All:\n",
            "Speak, speak.\n",
            "\n",
            "First Citizen:\n",
            "You\n",
            "----------------------------------------------------------------------\n",
            "\n",
            "\n",
            "Corresponding Integer Vector \n",
            "\n",
            "----------------------------------------------------------------------\n",
            "[18 47 56 57 58  1 15 47 58 47 64 43 52 10  0 14 43 44 53 56 43  1 61 43\n",
            "  1 54 56 53 41 43 43 42  1 39 52 63  1 44 59 56 58 46 43 56  6  1 46 43\n",
            " 39 56  1 51 43  1 57 54 43 39 49  8  0  0 13 50 50 10  0 31 54 43 39 49\n",
            "  6  1 57 54 43 39 49  8  0  0 18 47 56 57 58  1 15 47 58 47 64 43 52 10\n",
            "  0 37 53 59]\n",
            "----------------------------------------------------------------------\n"
          ]
        }
      ]
    },
    {
      "cell_type": "markdown",
      "source": [
        "Text with one million encoded characters can not be fed into a model as such. Since we predict characters, the text must be broken down into sequences of some predefined length and then fed into the model. Use TensorFlow’s batch method to create sequences of 100 characters each. Prior to that, convert the NumPy arrays into tensors to make further processes using TensorFlow."
      ],
      "metadata": {
        "id": "7wE1ItvrlS7y"
      }
    },
    {
      "cell_type": "code",
      "source": [
        " # convert into tensors\n",
        "vector = tf.data.Dataset.from_tensor_slices(vector)\n",
        " # make sequences each of length 100 characters\n",
        "sequences = vector.batch(100, drop_remainder=True)"
      ],
      "metadata": {
        "id": "MALh38xwe_eD"
      },
      "execution_count": null,
      "outputs": []
    },
    {
      "cell_type": "markdown",
      "source": [
        "Recurrent neural networks predict the subsequent characters based on the past characters. RNNs require a sequence of input characters and the corresponding target sequence with the subsequent characters for training. Prepare input sequences with the first 99 characters and corresponding target sequences with the last 99 characters."
      ],
      "metadata": {
        "id": "p-UY-LY0pggw"
      }
    },
    {
      "cell_type": "code",
      "source": [
        "def prepare_dataset(seq):\n",
        "  input_vector = seq[:-1]\n",
        "  target_vector = seq[1:]\n",
        "  return input_vector, target_vector\n",
        "dataset = sequences.map(prepare_dataset)"
      ],
      "metadata": {
        "id": "zLpxRnfqmKUT"
      },
      "execution_count": null,
      "outputs": []
    },
    {
      "cell_type": "code",
      "source": [
        "# check how it looks\n",
        "for inp, tar in dataset.take(1):\n",
        "  print(inp.numpy())\n",
        "  print(tar.numpy())\n",
        "  inp_text = ''.join(vocabulary[inp])\n",
        "  tar_text = ''.join(vocabulary[tar])\n",
        "  print(repr(inp_text))\n",
        "  print(repr(tar_text))"
      ],
      "metadata": {
        "colab": {
          "base_uri": "https://localhost:8080/"
        },
        "id": "PoiqY0rmpt4u",
        "outputId": "3c76b0f0-5fa8-435a-caf5-c505aafa18bb"
      },
      "execution_count": null,
      "outputs": [
        {
          "output_type": "stream",
          "name": "stdout",
          "text": [
            "[18 47 56 57 58  1 15 47 58 47 64 43 52 10  0 14 43 44 53 56 43  1 61 43\n",
            "  1 54 56 53 41 43 43 42  1 39 52 63  1 44 59 56 58 46 43 56  6  1 46 43\n",
            " 39 56  1 51 43  1 57 54 43 39 49  8  0  0 13 50 50 10  0 31 54 43 39 49\n",
            "  6  1 57 54 43 39 49  8  0  0 18 47 56 57 58  1 15 47 58 47 64 43 52 10\n",
            "  0 37 53]\n",
            "[47 56 57 58  1 15 47 58 47 64 43 52 10  0 14 43 44 53 56 43  1 61 43  1\n",
            " 54 56 53 41 43 43 42  1 39 52 63  1 44 59 56 58 46 43 56  6  1 46 43 39\n",
            " 56  1 51 43  1 57 54 43 39 49  8  0  0 13 50 50 10  0 31 54 43 39 49  6\n",
            "  1 57 54 43 39 49  8  0  0 18 47 56 57 58  1 15 47 58 47 64 43 52 10  0\n",
            " 37 53 59]\n",
            "'First Citizen:\\nBefore we proceed any further, hear me speak.\\n\\nAll:\\nSpeak, speak.\\n\\nFirst Citizen:\\nYo'\n",
            "'irst Citizen:\\nBefore we proceed any further, hear me speak.\\n\\nAll:\\nSpeak, speak.\\n\\nFirst Citizen:\\nYou'\n"
          ]
        }
      ]
    },
    {
      "cell_type": "markdown",
      "source": [
        "Model will be trained with Stochastic Gradient Descent (SGD) based optimizer Adam. It requires the input data to be batched. Further, TensorFlow’s prefetch method helps training with optimized memory. It fetches data batches just before the training requires them. We prefer not to shuffle the data to retain the contextual order of sequences."
      ],
      "metadata": {
        "id": "S4U-ecNQtcbd"
      }
    },
    {
      "cell_type": "code",
      "source": [
        " AUTOTUNE = tf.data.AUTOTUNE\n",
        " # buffer size 10000\n",
        " # batch size 64\n",
        " data = dataset.batch(64, drop_remainder=True).repeat()\n",
        " data = data.prefetch(AUTOTUNE)\n",
        " # steps per epoch is number of batches available\n",
        " STEPS_PER_EPOCH = len(sequences)//64\n",
        " for inp, tar in data.take(1):\n",
        "     print(inp.numpy().shape)\n",
        "     print(tar.numpy().shape)"
      ],
      "metadata": {
        "colab": {
          "base_uri": "https://localhost:8080/"
        },
        "id": "MfhSoaxnsQWp",
        "outputId": "709c2a2a-db44-4e9d-a833-4cfdcf6f6298"
      },
      "execution_count": null,
      "outputs": [
        {
          "output_type": "stream",
          "name": "stdout",
          "text": [
            "(64, 99)\n",
            "(64, 99)\n"
          ]
        }
      ]
    },
    {
      "cell_type": "markdown",
      "source": [
        "Build an RNN Model"
      ],
      "metadata": {
        "id": "djxZW8BzvVDu"
      }
    },
    {
      "cell_type": "markdown",
      "source": [
        "Recurrent neural networks are good at modeling time-dependent data because of its ability to retain time-steps based information in memory. Since texts have contextual information that are determined purely by order of the words, natural language processing heavily relies on sequence modeling architectures such as RNN. Here, an LSTM (Long Short-Term Memory) layers-based recurrent neural network is developed to model the task. While implementing LSTM layers, we enable stateful argument as True to keep the time-step memory of previous states while learning with consequent batches in an epoch. It helps capture the context among consecutive sequences."
      ],
      "metadata": {
        "id": "3zs0PMfavitW"
      }
    },
    {
      "cell_type": "code",
      "source": [
        "model = keras.Sequential([\n",
        "     # Embed len(vocabulary) into 64 dimensions\n",
        "     Embedding(len(vocabulary), 64, batch_input_shape=[64,None]),\n",
        "     # LSTM RNN layers\n",
        "     LSTM(512, return_sequences=True, stateful=True),\n",
        "     LSTM(512, return_sequences=True, stateful=True),\n",
        "     # Classification head\n",
        "     Dense(len(vocabulary))\n",
        " ])\n",
        "model.summary()"
      ],
      "metadata": {
        "colab": {
          "base_uri": "https://localhost:8080/"
        },
        "id": "wSpx9obyvNMo",
        "outputId": "5be2463c-f6d2-4532-cd2d-e5daeb450ffc"
      },
      "execution_count": null,
      "outputs": [
        {
          "output_type": "stream",
          "name": "stdout",
          "text": [
            "Model: \"sequential\"\n",
            "_________________________________________________________________\n",
            " Layer (type)                Output Shape              Param #   \n",
            "=================================================================\n",
            " embedding (Embedding)       (64, None, 64)            4160      \n",
            "                                                                 \n",
            " lstm (LSTM)                 (64, None, 512)           1181696   \n",
            "                                                                 \n",
            " lstm_1 (LSTM)               (64, None, 512)           2099200   \n",
            "                                                                 \n",
            " dense (Dense)               (64, None, 65)            33345     \n",
            "                                                                 \n",
            "=================================================================\n",
            "Total params: 3,318,401\n",
            "Trainable params: 3,318,401\n",
            "Non-trainable params: 0\n",
            "_________________________________________________________________\n"
          ]
        }
      ]
    },
    {
      "cell_type": "markdown",
      "source": [
        "Plot the model to understand the flow and shapes of data at each layer’s input and output"
      ],
      "metadata": {
        "id": "_1XL6qaywxPe"
      }
    },
    {
      "cell_type": "code",
      "source": [
        "keras.utils.plot_model(model, show_shapes=True, dpi=64)"
      ],
      "metadata": {
        "colab": {
          "base_uri": "https://localhost:8080/",
          "height": 361
        },
        "id": "cfEzDUufwpk-",
        "outputId": "55a43bf8-590c-4a71-8667-b3763ceada17"
      },
      "execution_count": null,
      "outputs": [
        {
          "output_type": "execute_result",
          "data": {
            "image/png": "[encoded data removed]",
            "text/plain": [
              "<IPython.core.display.Image object>"
            ]
          },
          "metadata": {},
          "execution_count": 15
        }
      ]
    },
    {
      "cell_type": "markdown",
      "source": [
        "Train the RNN Model"
      ],
      "metadata": {
        "id": "yRmz09G4xWTy"
      }
    },
    {
      "cell_type": "markdown",
      "source": [
        "We can check whether the model can accept the processed data without any errors."
      ],
      "metadata": {
        "id": "STtneHs9xZs6"
      }
    },
    {
      "cell_type": "code",
      "source": [
        "# test whether the untrained model performs good\n",
        "for example_inp, example_tar in data.take(1):\n",
        "  example_pred = model(example_inp)\n",
        "  print(example_tar.numpy().shape)\n",
        "  print(example_pred.shape)"
      ],
      "metadata": {
        "colab": {
          "base_uri": "https://localhost:8080/"
        },
        "id": "AOX5rWd7xOJZ",
        "outputId": "da1060a9-d034-4a69-f7a9-b82e71f39e69"
      },
      "execution_count": null,
      "outputs": [
        {
          "output_type": "stream",
          "name": "stdout",
          "text": [
            "(64, 99)\n",
            "(64, 99, 65)\n"
          ]
        }
      ]
    },
    {
      "cell_type": "markdown",
      "source": [
        "The target shape is (64, 99), which refers to the batch size and the number of characters in that sequence. The last shape, 65, in the prediction refers to the size of the vocabulary. The model predicts the probability of occurrence of each character in the vocabulary. The character with a higher probability has more possibility to be the next character.\n",
        "\n",
        "Compile the model with Adam optimizer and Sparse Categorical Cross-entropy loss function. Since we have not employed softmax as the output layer’s activation function. The outputs will be independent but not mutually exclusive. Hence, we should enable the argument ‘from_logits’ to be True while declaring the loss function. Train the model for 10 epochs."
      ],
      "metadata": {
        "id": "17O8vh7hzLJj"
      }
    },
    {
      "cell_type": "markdown",
      "source": [],
      "metadata": {
        "id": "6I-9aweWKs3n"
      }
    },
    {
      "cell_type": "code",
      "source": [
        "model.compile(optimizer='adam', loss=keras.losses.SparseCategoricalCrossentropy(from_logits=True))\n",
        "\n",
        "history = model.fit(data, epochs=500, steps_per_epoch=STEPS_PER_EPOCH)"
      ],
      "metadata": {
        "colab": {
          "base_uri": "https://localhost:8080/"
        },
        "id": "xWtHn396yI5g",
        "outputId": "d1215fb3-84b7-40fb-cc3b-d794450ed5f4"
      },
      "execution_count": 23,
      "outputs": [
        {
          "output_type": "stream",
          "name": "stdout",
          "text": [
            "Epoch 1/500\n",
            "174/174 [==============================] - 13s 55ms/step - loss: 0.3341\n",
            "Epoch 2/500\n",
            "174/174 [==============================] - 9s 51ms/step - loss: 0.3254\n",
            "Epoch 3/500\n",
            "174/174 [==============================] - 8s 49ms/step - loss: 0.3176\n",
            "Epoch 4/500\n",
            "174/174 [==============================] - 9s 49ms/step - loss: 0.3134\n",
            "Epoch 5/500\n",
            "174/174 [==============================] - 9s 50ms/step - loss: 0.3102\n",
            "Epoch 6/500\n",
            "174/174 [==============================] - 9s 49ms/step - loss: 0.3064\n",
            "Epoch 7/500\n",
            "174/174 [==============================] - 9s 50ms/step - loss: 0.3030\n",
            "Epoch 8/500\n",
            "174/174 [==============================] - 9s 50ms/step - loss: 0.3003\n",
            "Epoch 9/500\n",
            "174/174 [==============================] - 9s 50ms/step - loss: 0.2988\n",
            "Epoch 10/500\n",
            "174/174 [==============================] - 9s 51ms/step - loss: 0.2961\n",
            "Epoch 11/500\n",
            "174/174 [==============================] - 9s 51ms/step - loss: 0.2966\n",
            "Epoch 12/500\n",
            "174/174 [==============================] - 9s 51ms/step - loss: 0.2944\n",
            "Epoch 13/500\n",
            "174/174 [==============================] - 9s 51ms/step - loss: 0.2900\n",
            "Epoch 14/500\n",
            "174/174 [==============================] - 9s 51ms/step - loss: 0.2879\n",
            "Epoch 15/500\n",
            "174/174 [==============================] - 9s 52ms/step - loss: 0.2855\n",
            "Epoch 16/500\n",
            "174/174 [==============================] - 9s 51ms/step - loss: 0.2807\n",
            "Epoch 17/500\n",
            "174/174 [==============================] - 9s 52ms/step - loss: 0.2763\n",
            "Epoch 18/500\n",
            "174/174 [==============================] - 9s 52ms/step - loss: 0.2758\n",
            "Epoch 19/500\n",
            "174/174 [==============================] - 9s 52ms/step - loss: 0.2754\n",
            "Epoch 20/500\n",
            "174/174 [==============================] - 9s 51ms/step - loss: 0.2723\n",
            "Epoch 21/500\n",
            "174/174 [==============================] - 9s 52ms/step - loss: 0.2724\n",
            "Epoch 22/500\n",
            "174/174 [==============================] - 9s 52ms/step - loss: 0.2697\n",
            "Epoch 23/500\n",
            "174/174 [==============================] - 9s 52ms/step - loss: 0.2649\n",
            "Epoch 24/500\n",
            "174/174 [==============================] - 9s 52ms/step - loss: 0.2607\n",
            "Epoch 25/500\n",
            "174/174 [==============================] - 9s 53ms/step - loss: 0.2559\n",
            "Epoch 26/500\n",
            "174/174 [==============================] - 9s 52ms/step - loss: 0.2538\n",
            "Epoch 27/500\n",
            "174/174 [==============================] - 9s 52ms/step - loss: 0.2517\n",
            "Epoch 28/500\n",
            "174/174 [==============================] - 9s 53ms/step - loss: 0.2502\n",
            "Epoch 29/500\n",
            "174/174 [==============================] - 9s 53ms/step - loss: 0.2464\n",
            "Epoch 30/500\n",
            "174/174 [==============================] - 9s 52ms/step - loss: 0.2438\n",
            "Epoch 31/500\n",
            "174/174 [==============================] - 9s 52ms/step - loss: 0.2418\n",
            "Epoch 32/500\n",
            "174/174 [==============================] - 9s 53ms/step - loss: 0.2398\n",
            "Epoch 33/500\n",
            "174/174 [==============================] - 9s 53ms/step - loss: 0.2382\n",
            "Epoch 34/500\n",
            "174/174 [==============================] - 9s 53ms/step - loss: 0.2367\n",
            "Epoch 35/500\n",
            "174/174 [==============================] - 9s 53ms/step - loss: 0.2341\n",
            "Epoch 36/500\n",
            "174/174 [==============================] - 9s 53ms/step - loss: 0.2324\n",
            "Epoch 37/500\n",
            "174/174 [==============================] - 9s 53ms/step - loss: 0.2317\n",
            "Epoch 38/500\n",
            "174/174 [==============================] - 9s 52ms/step - loss: 0.2370\n",
            "Epoch 39/500\n",
            "174/174 [==============================] - 9s 53ms/step - loss: 0.2352\n",
            "Epoch 40/500\n",
            "174/174 [==============================] - 9s 53ms/step - loss: 0.2325\n",
            "Epoch 41/500\n",
            "174/174 [==============================] - 9s 53ms/step - loss: 0.2294\n",
            "Epoch 42/500\n",
            "174/174 [==============================] - 9s 53ms/step - loss: 0.2280\n",
            "Epoch 43/500\n",
            "174/174 [==============================] - 9s 53ms/step - loss: 0.2253\n",
            "Epoch 44/500\n",
            "174/174 [==============================] - 9s 53ms/step - loss: 0.2248\n",
            "Epoch 45/500\n",
            "174/174 [==============================] - 9s 52ms/step - loss: 0.2227\n",
            "Epoch 46/500\n",
            "174/174 [==============================] - 9s 53ms/step - loss: 0.2250\n",
            "Epoch 47/500\n",
            "174/174 [==============================] - 9s 53ms/step - loss: 0.2241\n",
            "Epoch 48/500\n",
            "174/174 [==============================] - 9s 53ms/step - loss: 0.2217\n",
            "Epoch 49/500\n",
            "174/174 [==============================] - 9s 53ms/step - loss: 0.2222\n",
            "Epoch 50/500\n",
            "174/174 [==============================] - 9s 53ms/step - loss: 0.2204\n",
            "Epoch 51/500\n",
            "174/174 [==============================] - 9s 53ms/step - loss: 0.2185\n",
            "Epoch 52/500\n",
            "174/174 [==============================] - 9s 53ms/step - loss: 0.2199\n",
            "Epoch 53/500\n",
            "174/174 [==============================] - 9s 53ms/step - loss: 0.2183\n",
            "Epoch 54/500\n",
            "174/174 [==============================] - 9s 53ms/step - loss: 0.2158\n",
            "Epoch 55/500\n",
            "174/174 [==============================] - 9s 53ms/step - loss: 0.2133\n",
            "Epoch 56/500\n",
            "174/174 [==============================] - 9s 53ms/step - loss: 0.2106\n",
            "Epoch 57/500\n",
            "174/174 [==============================] - 9s 53ms/step - loss: 0.2104\n",
            "Epoch 58/500\n",
            "174/174 [==============================] - 9s 53ms/step - loss: 0.2122\n",
            "Epoch 59/500\n",
            "174/174 [==============================] - 9s 53ms/step - loss: 0.2096\n",
            "Epoch 60/500\n",
            "174/174 [==============================] - 9s 53ms/step - loss: 0.2089\n",
            "Epoch 61/500\n",
            "174/174 [==============================] - 9s 53ms/step - loss: 0.2087\n",
            "Epoch 62/500\n",
            "174/174 [==============================] - 9s 53ms/step - loss: 0.2113\n",
            "Epoch 63/500\n",
            "174/174 [==============================] - 9s 53ms/step - loss: 0.2126\n",
            "Epoch 64/500\n",
            "174/174 [==============================] - 9s 53ms/step - loss: 0.2103\n",
            "Epoch 65/500\n",
            "174/174 [==============================] - 9s 53ms/step - loss: 0.2083\n",
            "Epoch 66/500\n",
            "174/174 [==============================] - 9s 53ms/step - loss: 0.2063\n",
            "Epoch 67/500\n",
            "174/174 [==============================] - 9s 53ms/step - loss: 0.2066\n",
            "Epoch 68/500\n",
            "174/174 [==============================] - 9s 53ms/step - loss: 0.2053\n",
            "Epoch 69/500\n",
            "174/174 [==============================] - 9s 53ms/step - loss: 0.2040\n",
            "Epoch 70/500\n",
            "174/174 [==============================] - 9s 53ms/step - loss: 0.2024\n",
            "Epoch 71/500\n",
            "174/174 [==============================] - 9s 53ms/step - loss: 0.1988\n",
            "Epoch 72/500\n",
            "174/174 [==============================] - 9s 53ms/step - loss: 0.1992\n",
            "Epoch 73/500\n",
            "174/174 [==============================] - 9s 53ms/step - loss: 0.1977\n",
            "Epoch 74/500\n",
            "174/174 [==============================] - 9s 53ms/step - loss: 0.1971\n",
            "Epoch 75/500\n",
            "174/174 [==============================] - 9s 53ms/step - loss: 0.1973\n",
            "Epoch 76/500\n",
            "174/174 [==============================] - 9s 52ms/step - loss: 0.1964\n",
            "Epoch 77/500\n",
            "174/174 [==============================] - 9s 53ms/step - loss: 0.1929\n",
            "Epoch 78/500\n",
            "174/174 [==============================] - 9s 53ms/step - loss: 0.1910\n",
            "Epoch 79/500\n",
            "174/174 [==============================] - 9s 53ms/step - loss: 0.1906\n",
            "Epoch 80/500\n",
            "174/174 [==============================] - 9s 53ms/step - loss: 0.1881\n",
            "Epoch 81/500\n",
            "174/174 [==============================] - 9s 53ms/step - loss: 0.1872\n",
            "Epoch 82/500\n",
            "174/174 [==============================] - 9s 53ms/step - loss: 0.1874\n",
            "Epoch 83/500\n",
            "174/174 [==============================] - 9s 53ms/step - loss: 0.1838\n",
            "Epoch 84/500\n",
            "174/174 [==============================] - 9s 52ms/step - loss: 0.1816\n",
            "Epoch 85/500\n",
            "174/174 [==============================] - 9s 53ms/step - loss: 0.1811\n",
            "Epoch 86/500\n",
            "174/174 [==============================] - 9s 53ms/step - loss: 0.1812\n",
            "Epoch 87/500\n",
            "174/174 [==============================] - 9s 53ms/step - loss: 0.1790\n",
            "Epoch 88/500\n",
            "174/174 [==============================] - 9s 53ms/step - loss: 0.1795\n",
            "Epoch 89/500\n",
            "174/174 [==============================] - 9s 52ms/step - loss: 0.1771\n",
            "Epoch 90/500\n",
            "174/174 [==============================] - 9s 53ms/step - loss: 0.1747\n",
            "Epoch 91/500\n",
            "174/174 [==============================] - 9s 53ms/step - loss: 0.1741\n",
            "Epoch 92/500\n",
            "174/174 [==============================] - 9s 53ms/step - loss: 0.1735\n",
            "Epoch 93/500\n",
            "174/174 [==============================] - 9s 53ms/step - loss: 0.1726\n",
            "Epoch 94/500\n",
            "174/174 [==============================] - 9s 52ms/step - loss: 0.1730\n",
            "Epoch 95/500\n",
            "174/174 [==============================] - 9s 53ms/step - loss: 0.1690\n",
            "Epoch 96/500\n",
            "174/174 [==============================] - 9s 52ms/step - loss: 0.1655\n",
            "Epoch 97/500\n",
            "174/174 [==============================] - 9s 52ms/step - loss: 0.1649\n",
            "Epoch 98/500\n",
            "174/174 [==============================] - 9s 52ms/step - loss: 0.1626\n",
            "Epoch 99/500\n",
            "174/174 [==============================] - 9s 53ms/step - loss: 0.1610\n",
            "Epoch 100/500\n",
            "174/174 [==============================] - 9s 53ms/step - loss: 0.1594\n",
            "Epoch 101/500\n",
            "174/174 [==============================] - 9s 53ms/step - loss: 0.1600\n",
            "Epoch 102/500\n",
            "174/174 [==============================] - 9s 53ms/step - loss: 0.1610\n",
            "Epoch 103/500\n",
            "174/174 [==============================] - 9s 53ms/step - loss: 0.1584\n",
            "Epoch 104/500\n",
            "174/174 [==============================] - 9s 53ms/step - loss: 0.1564\n",
            "Epoch 105/500\n",
            "174/174 [==============================] - 9s 52ms/step - loss: 0.1579\n",
            "Epoch 106/500\n",
            "174/174 [==============================] - 9s 52ms/step - loss: 0.1578\n",
            "Epoch 107/500\n",
            "174/174 [==============================] - 9s 52ms/step - loss: 0.1539\n",
            "Epoch 108/500\n",
            "174/174 [==============================] - 9s 52ms/step - loss: 0.1519\n",
            "Epoch 109/500\n",
            "174/174 [==============================] - 9s 53ms/step - loss: 0.1495\n",
            "Epoch 110/500\n",
            "174/174 [==============================] - 9s 53ms/step - loss: 0.1478\n",
            "Epoch 111/500\n",
            "174/174 [==============================] - 9s 53ms/step - loss: 0.1460\n",
            "Epoch 112/500\n",
            "174/174 [==============================] - 9s 53ms/step - loss: 0.1454\n",
            "Epoch 113/500\n",
            "174/174 [==============================] - 9s 53ms/step - loss: 0.1436\n",
            "Epoch 114/500\n",
            "174/174 [==============================] - 9s 53ms/step - loss: 0.1439\n",
            "Epoch 115/500\n",
            "174/174 [==============================] - 9s 53ms/step - loss: 0.1449\n",
            "Epoch 116/500\n",
            "174/174 [==============================] - 9s 53ms/step - loss: 0.1451\n",
            "Epoch 117/500\n",
            "174/174 [==============================] - 9s 53ms/step - loss: 0.1436\n",
            "Epoch 118/500\n",
            "174/174 [==============================] - 9s 53ms/step - loss: 0.1457\n",
            "Epoch 119/500\n",
            "174/174 [==============================] - 9s 53ms/step - loss: 0.1429\n",
            "Epoch 120/500\n",
            "174/174 [==============================] - 9s 53ms/step - loss: 0.1436\n",
            "Epoch 121/500\n",
            "174/174 [==============================] - 9s 53ms/step - loss: 0.1401\n",
            "Epoch 122/500\n",
            "174/174 [==============================] - 9s 53ms/step - loss: 0.1417\n",
            "Epoch 123/500\n",
            "174/174 [==============================] - 9s 53ms/step - loss: 0.1413\n",
            "Epoch 124/500\n",
            "174/174 [==============================] - 9s 53ms/step - loss: 0.1419\n",
            "Epoch 125/500\n",
            "174/174 [==============================] - 9s 53ms/step - loss: 0.1381\n",
            "Epoch 126/500\n",
            "174/174 [==============================] - 9s 53ms/step - loss: 0.1364\n",
            "Epoch 127/500\n",
            "174/174 [==============================] - 9s 53ms/step - loss: 0.1336\n",
            "Epoch 128/500\n",
            "174/174 [==============================] - 9s 53ms/step - loss: 0.1325\n",
            "Epoch 129/500\n",
            "174/174 [==============================] - 9s 53ms/step - loss: 0.1330\n",
            "Epoch 130/500\n",
            "174/174 [==============================] - 9s 53ms/step - loss: 0.1324\n",
            "Epoch 131/500\n",
            "174/174 [==============================] - 9s 53ms/step - loss: 0.1302\n",
            "Epoch 132/500\n",
            "174/174 [==============================] - 9s 53ms/step - loss: 0.1334\n",
            "Epoch 133/500\n",
            "174/174 [==============================] - 9s 53ms/step - loss: 0.1350\n",
            "Epoch 134/500\n",
            "174/174 [==============================] - 9s 53ms/step - loss: 0.1330\n",
            "Epoch 135/500\n",
            "174/174 [==============================] - 9s 53ms/step - loss: 0.1327\n",
            "Epoch 136/500\n",
            "174/174 [==============================] - 9s 53ms/step - loss: 0.1307\n",
            "Epoch 137/500\n",
            "174/174 [==============================] - 9s 53ms/step - loss: 0.1322\n",
            "Epoch 138/500\n",
            "174/174 [==============================] - 9s 53ms/step - loss: 0.1332\n",
            "Epoch 139/500\n",
            "174/174 [==============================] - 9s 53ms/step - loss: 0.1306\n",
            "Epoch 140/500\n",
            "174/174 [==============================] - 9s 53ms/step - loss: 0.1290\n",
            "Epoch 141/500\n",
            "174/174 [==============================] - 9s 53ms/step - loss: 0.1267\n",
            "Epoch 142/500\n",
            "174/174 [==============================] - 9s 53ms/step - loss: 0.1263\n",
            "Epoch 143/500\n",
            "174/174 [==============================] - 9s 53ms/step - loss: 0.1258\n",
            "Epoch 144/500\n",
            "174/174 [==============================] - 9s 53ms/step - loss: 0.1260\n",
            "Epoch 145/500\n",
            "174/174 [==============================] - 9s 53ms/step - loss: 0.1265\n",
            "Epoch 146/500\n",
            "174/174 [==============================] - 9s 53ms/step - loss: 0.1271\n",
            "Epoch 147/500\n",
            "174/174 [==============================] - 9s 53ms/step - loss: 0.1262\n",
            "Epoch 148/500\n",
            "174/174 [==============================] - 9s 53ms/step - loss: 0.1265\n",
            "Epoch 149/500\n",
            "174/174 [==============================] - 9s 53ms/step - loss: 0.1251\n",
            "Epoch 150/500\n",
            "174/174 [==============================] - 9s 53ms/step - loss: 0.1257\n",
            "Epoch 151/500\n",
            "174/174 [==============================] - 9s 53ms/step - loss: 0.1229\n",
            "Epoch 152/500\n",
            "174/174 [==============================] - 9s 53ms/step - loss: 0.1226\n",
            "Epoch 153/500\n",
            "174/174 [==============================] - 9s 54ms/step - loss: 0.1232\n",
            "Epoch 154/500\n",
            "174/174 [==============================] - 9s 53ms/step - loss: 0.1239\n",
            "Epoch 155/500\n",
            "174/174 [==============================] - 9s 53ms/step - loss: 0.1225\n",
            "Epoch 156/500\n",
            "174/174 [==============================] - 9s 53ms/step - loss: 0.1194\n",
            "Epoch 157/500\n",
            "174/174 [==============================] - 9s 53ms/step - loss: 0.1170\n",
            "Epoch 158/500\n",
            "174/174 [==============================] - 9s 53ms/step - loss: 0.1170\n",
            "Epoch 159/500\n",
            "174/174 [==============================] - 9s 53ms/step - loss: 0.1260\n",
            "Epoch 160/500\n",
            "174/174 [==============================] - 9s 53ms/step - loss: 0.1259\n",
            "Epoch 161/500\n",
            "174/174 [==============================] - 9s 53ms/step - loss: 0.1229\n",
            "Epoch 162/500\n",
            "174/174 [==============================] - 9s 53ms/step - loss: 0.1188\n",
            "Epoch 163/500\n",
            "174/174 [==============================] - 9s 53ms/step - loss: 0.1169\n",
            "Epoch 164/500\n",
            "174/174 [==============================] - 9s 54ms/step - loss: 0.1164\n",
            "Epoch 165/500\n",
            "174/174 [==============================] - 9s 53ms/step - loss: 0.1144\n",
            "Epoch 166/500\n",
            "174/174 [==============================] - 9s 53ms/step - loss: 0.1132\n",
            "Epoch 167/500\n",
            "174/174 [==============================] - 9s 53ms/step - loss: 0.1142\n",
            "Epoch 168/500\n",
            "174/174 [==============================] - 9s 53ms/step - loss: 0.1151\n",
            "Epoch 169/500\n",
            "174/174 [==============================] - 9s 53ms/step - loss: 0.1170\n",
            "Epoch 170/500\n",
            "174/174 [==============================] - 9s 53ms/step - loss: 0.1170\n",
            "Epoch 171/500\n",
            "174/174 [==============================] - 9s 53ms/step - loss: 0.1167\n",
            "Epoch 172/500\n",
            "174/174 [==============================] - 9s 54ms/step - loss: 0.1160\n",
            "Epoch 173/500\n",
            "174/174 [==============================] - 9s 53ms/step - loss: 0.1146\n",
            "Epoch 174/500\n",
            "174/174 [==============================] - 9s 53ms/step - loss: 0.1114\n",
            "Epoch 175/500\n",
            "174/174 [==============================] - 9s 53ms/step - loss: 0.1117\n",
            "Epoch 176/500\n",
            "174/174 [==============================] - 9s 53ms/step - loss: 0.1119\n",
            "Epoch 177/500\n",
            "174/174 [==============================] - 9s 53ms/step - loss: 0.1148\n",
            "Epoch 178/500\n",
            "174/174 [==============================] - 9s 53ms/step - loss: 0.1148\n",
            "Epoch 179/500\n",
            "174/174 [==============================] - 9s 53ms/step - loss: 0.1137\n",
            "Epoch 180/500\n",
            "174/174 [==============================] - 9s 53ms/step - loss: 0.1126\n",
            "Epoch 181/500\n",
            "174/174 [==============================] - 9s 54ms/step - loss: 0.1131\n",
            "Epoch 182/500\n",
            "174/174 [==============================] - 9s 53ms/step - loss: 0.1139\n",
            "Epoch 183/500\n",
            "174/174 [==============================] - 9s 53ms/step - loss: 0.1132\n",
            "Epoch 184/500\n",
            "174/174 [==============================] - 9s 53ms/step - loss: 0.1108\n",
            "Epoch 185/500\n",
            "174/174 [==============================] - 9s 53ms/step - loss: 0.1107\n",
            "Epoch 186/500\n",
            "174/174 [==============================] - 9s 53ms/step - loss: 0.1103\n",
            "Epoch 187/500\n",
            "174/174 [==============================] - 9s 53ms/step - loss: 0.1101\n",
            "Epoch 188/500\n",
            "174/174 [==============================] - 9s 53ms/step - loss: 0.1078\n",
            "Epoch 189/500\n",
            "174/174 [==============================] - 9s 53ms/step - loss: 0.1065\n",
            "Epoch 190/500\n",
            "174/174 [==============================] - 9s 53ms/step - loss: 0.1038\n",
            "Epoch 191/500\n",
            "174/174 [==============================] - 9s 53ms/step - loss: 0.1039\n",
            "Epoch 192/500\n",
            "174/174 [==============================] - 9s 53ms/step - loss: 0.1052\n",
            "Epoch 193/500\n",
            "174/174 [==============================] - 9s 53ms/step - loss: 0.1059\n",
            "Epoch 194/500\n",
            "174/174 [==============================] - 9s 53ms/step - loss: 0.1089\n",
            "Epoch 195/500\n",
            "174/174 [==============================] - 9s 53ms/step - loss: 0.1130\n",
            "Epoch 196/500\n",
            "174/174 [==============================] - 9s 53ms/step - loss: 0.1134\n",
            "Epoch 197/500\n",
            "174/174 [==============================] - 9s 53ms/step - loss: 0.1136\n",
            "Epoch 198/500\n",
            "174/174 [==============================] - 9s 53ms/step - loss: 0.1105\n",
            "Epoch 199/500\n",
            "174/174 [==============================] - 9s 53ms/step - loss: 0.1089\n",
            "Epoch 200/500\n",
            "174/174 [==============================] - 9s 53ms/step - loss: 0.1068\n",
            "Epoch 201/500\n",
            "174/174 [==============================] - 9s 53ms/step - loss: 0.1036\n",
            "Epoch 202/500\n",
            "174/174 [==============================] - 9s 53ms/step - loss: 0.1020\n",
            "Epoch 203/500\n",
            "174/174 [==============================] - 9s 53ms/step - loss: 0.1003\n",
            "Epoch 204/500\n",
            "174/174 [==============================] - 9s 53ms/step - loss: 0.0989\n",
            "Epoch 205/500\n",
            "174/174 [==============================] - 9s 53ms/step - loss: 0.0984\n",
            "Epoch 206/500\n",
            "174/174 [==============================] - 9s 53ms/step - loss: 0.1021\n",
            "Epoch 207/500\n",
            "174/174 [==============================] - 9s 53ms/step - loss: 0.1098\n",
            "Epoch 208/500\n",
            "174/174 [==============================] - 9s 54ms/step - loss: 0.1107\n",
            "Epoch 209/500\n",
            "174/174 [==============================] - 9s 54ms/step - loss: 0.1117\n",
            "Epoch 210/500\n",
            "174/174 [==============================] - 9s 54ms/step - loss: 0.1100\n",
            "Epoch 211/500\n",
            "174/174 [==============================] - 9s 54ms/step - loss: 0.1046\n",
            "Epoch 212/500\n",
            "174/174 [==============================] - 9s 53ms/step - loss: 0.1022\n",
            "Epoch 213/500\n",
            "174/174 [==============================] - 9s 53ms/step - loss: 0.0990\n",
            "Epoch 214/500\n",
            "174/174 [==============================] - 9s 54ms/step - loss: 0.0985\n",
            "Epoch 215/500\n",
            "174/174 [==============================] - 9s 53ms/step - loss: 0.0989\n",
            "Epoch 216/500\n",
            "174/174 [==============================] - 9s 53ms/step - loss: 0.0982\n",
            "Epoch 217/500\n",
            "174/174 [==============================] - 9s 53ms/step - loss: 0.0992\n",
            "Epoch 218/500\n",
            "174/174 [==============================] - 9s 53ms/step - loss: 0.1058\n",
            "Epoch 219/500\n",
            "174/174 [==============================] - 9s 53ms/step - loss: 0.1545\n",
            "Epoch 220/500\n",
            "174/174 [==============================] - 9s 53ms/step - loss: 0.1388\n",
            "Epoch 221/500\n",
            "174/174 [==============================] - 9s 53ms/step - loss: 0.1166\n",
            "Epoch 222/500\n",
            "174/174 [==============================] - 9s 53ms/step - loss: 0.0995\n",
            "Epoch 223/500\n",
            "174/174 [==============================] - 9s 53ms/step - loss: 0.0863\n",
            "Epoch 224/500\n",
            "174/174 [==============================] - 9s 53ms/step - loss: 0.0788\n",
            "Epoch 225/500\n",
            "174/174 [==============================] - 9s 53ms/step - loss: 0.0765\n",
            "Epoch 226/500\n",
            "174/174 [==============================] - 9s 53ms/step - loss: 0.0758\n",
            "Epoch 227/500\n",
            "174/174 [==============================] - 9s 53ms/step - loss: 0.0809\n",
            "Epoch 228/500\n",
            "174/174 [==============================] - 9s 53ms/step - loss: 0.0890\n",
            "Epoch 229/500\n",
            "174/174 [==============================] - 9s 54ms/step - loss: 0.1020\n",
            "Epoch 230/500\n",
            "174/174 [==============================] - 9s 54ms/step - loss: 0.1200\n",
            "Epoch 231/500\n",
            "174/174 [==============================] - 9s 53ms/step - loss: 0.1285\n",
            "Epoch 232/500\n",
            "174/174 [==============================] - 9s 53ms/step - loss: 0.1280\n",
            "Epoch 233/500\n",
            "174/174 [==============================] - 9s 54ms/step - loss: 0.1240\n",
            "Epoch 234/500\n",
            "174/174 [==============================] - 9s 53ms/step - loss: 0.1142\n",
            "Epoch 235/500\n",
            "174/174 [==============================] - 9s 53ms/step - loss: 0.0991\n",
            "Epoch 236/500\n",
            "174/174 [==============================] - 9s 53ms/step - loss: 0.0891\n",
            "Epoch 237/500\n",
            "174/174 [==============================] - 9s 53ms/step - loss: 0.0819\n",
            "Epoch 238/500\n",
            "174/174 [==============================] - 9s 53ms/step - loss: 0.0775\n",
            "Epoch 239/500\n",
            "174/174 [==============================] - 9s 53ms/step - loss: 0.0769\n",
            "Epoch 240/500\n",
            "174/174 [==============================] - 9s 53ms/step - loss: 0.0804\n",
            "Epoch 241/500\n",
            "174/174 [==============================] - 9s 53ms/step - loss: 0.0849\n",
            "Epoch 242/500\n",
            "174/174 [==============================] - 9s 54ms/step - loss: 0.0950\n",
            "Epoch 243/500\n",
            "174/174 [==============================] - 9s 53ms/step - loss: 0.1073\n",
            "Epoch 244/500\n",
            "174/174 [==============================] - 9s 53ms/step - loss: 0.1194\n",
            "Epoch 245/500\n",
            "174/174 [==============================] - 9s 53ms/step - loss: 0.1219\n",
            "Epoch 246/500\n",
            "174/174 [==============================] - 9s 53ms/step - loss: 0.1190\n",
            "Epoch 247/500\n",
            "174/174 [==============================] - 9s 53ms/step - loss: 0.1123\n",
            "Epoch 248/500\n",
            "174/174 [==============================] - 9s 54ms/step - loss: 0.1000\n",
            "Epoch 249/500\n",
            "174/174 [==============================] - 9s 53ms/step - loss: 0.0908\n",
            "Epoch 250/500\n",
            "174/174 [==============================] - 9s 54ms/step - loss: 0.0815\n",
            "Epoch 251/500\n",
            "174/174 [==============================] - 9s 53ms/step - loss: 0.0778\n",
            "Epoch 252/500\n",
            "174/174 [==============================] - 9s 53ms/step - loss: 0.0769\n",
            "Epoch 253/500\n",
            "174/174 [==============================] - 9s 53ms/step - loss: 0.0790\n",
            "Epoch 254/500\n",
            "174/174 [==============================] - 9s 53ms/step - loss: 0.0851\n",
            "Epoch 255/500\n",
            "174/174 [==============================] - 9s 53ms/step - loss: 0.0984\n",
            "Epoch 256/500\n",
            "174/174 [==============================] - 9s 53ms/step - loss: 0.1095\n",
            "Epoch 257/500\n",
            "174/174 [==============================] - 9s 53ms/step - loss: 0.1177\n",
            "Epoch 258/500\n",
            "174/174 [==============================] - 9s 53ms/step - loss: 0.1175\n",
            "Epoch 259/500\n",
            "174/174 [==============================] - 9s 53ms/step - loss: 0.1120\n",
            "Epoch 260/500\n",
            "174/174 [==============================] - 9s 53ms/step - loss: 0.1028\n",
            "Epoch 261/500\n",
            "174/174 [==============================] - 9s 53ms/step - loss: 0.0927\n",
            "Epoch 262/500\n",
            "174/174 [==============================] - 9s 53ms/step - loss: 0.0845\n",
            "Epoch 263/500\n",
            "174/174 [==============================] - 9s 53ms/step - loss: 0.0786\n",
            "Epoch 264/500\n",
            "174/174 [==============================] - 9s 53ms/step - loss: 0.0755\n",
            "Epoch 265/500\n",
            "174/174 [==============================] - 9s 53ms/step - loss: 0.0766\n",
            "Epoch 266/500\n",
            "174/174 [==============================] - 9s 53ms/step - loss: 0.0798\n",
            "Epoch 267/500\n",
            "174/174 [==============================] - 9s 53ms/step - loss: 0.0866\n",
            "Epoch 268/500\n",
            "174/174 [==============================] - 9s 53ms/step - loss: 0.0974\n",
            "Epoch 269/500\n",
            "174/174 [==============================] - 9s 54ms/step - loss: 0.1098\n",
            "Epoch 270/500\n",
            "174/174 [==============================] - 9s 53ms/step - loss: 0.1191\n",
            "Epoch 271/500\n",
            "174/174 [==============================] - 9s 53ms/step - loss: 0.1188\n",
            "Epoch 272/500\n",
            "174/174 [==============================] - 9s 53ms/step - loss: 0.1107\n",
            "Epoch 273/500\n",
            "174/174 [==============================] - 9s 53ms/step - loss: 0.0999\n",
            "Epoch 274/500\n",
            "174/174 [==============================] - 9s 53ms/step - loss: 0.0889\n",
            "Epoch 275/500\n",
            "174/174 [==============================] - 9s 53ms/step - loss: 0.0801\n",
            "Epoch 276/500\n",
            "174/174 [==============================] - 9s 54ms/step - loss: 0.0747\n",
            "Epoch 277/500\n",
            "174/174 [==============================] - 9s 53ms/step - loss: 0.0725\n",
            "Epoch 278/500\n",
            "174/174 [==============================] - 9s 53ms/step - loss: 0.0723\n",
            "Epoch 279/500\n",
            "174/174 [==============================] - 9s 53ms/step - loss: 0.0772\n",
            "Epoch 280/500\n",
            "174/174 [==============================] - 9s 54ms/step - loss: 0.0851\n",
            "Epoch 281/500\n",
            "174/174 [==============================] - 9s 53ms/step - loss: 0.0995\n",
            "Epoch 282/500\n",
            "174/174 [==============================] - 9s 54ms/step - loss: 0.1160\n",
            "Epoch 283/500\n",
            "174/174 [==============================] - 9s 54ms/step - loss: 0.1255\n",
            "Epoch 284/500\n",
            "174/174 [==============================] - 9s 53ms/step - loss: 0.1179\n",
            "Epoch 285/500\n",
            "174/174 [==============================] - 9s 53ms/step - loss: 0.1046\n",
            "Epoch 286/500\n",
            "174/174 [==============================] - 9s 54ms/step - loss: 0.0894\n",
            "Epoch 287/500\n",
            "174/174 [==============================] - 9s 53ms/step - loss: 0.0784\n",
            "Epoch 288/500\n",
            "174/174 [==============================] - 9s 53ms/step - loss: 0.0725\n",
            "Epoch 289/500\n",
            "174/174 [==============================] - 9s 53ms/step - loss: 0.0693\n",
            "Epoch 290/500\n",
            "174/174 [==============================] - 9s 53ms/step - loss: 0.0665\n",
            "Epoch 291/500\n",
            "174/174 [==============================] - 9s 53ms/step - loss: 0.0687\n",
            "Epoch 292/500\n",
            "174/174 [==============================] - 9s 53ms/step - loss: 0.0770\n",
            "Epoch 293/500\n",
            "174/174 [==============================] - 9s 53ms/step - loss: 0.0908\n",
            "Epoch 294/500\n",
            "174/174 [==============================] - 9s 53ms/step - loss: 0.1072\n",
            "Epoch 295/500\n",
            "174/174 [==============================] - 9s 53ms/step - loss: 0.1204\n",
            "Epoch 296/500\n",
            "174/174 [==============================] - 9s 53ms/step - loss: 0.1275\n",
            "Epoch 297/500\n",
            "174/174 [==============================] - 9s 53ms/step - loss: 0.1188\n",
            "Epoch 298/500\n",
            "174/174 [==============================] - 9s 54ms/step - loss: 0.1038\n",
            "Epoch 299/500\n",
            "174/174 [==============================] - 9s 53ms/step - loss: 0.0893\n",
            "Epoch 300/500\n",
            "174/174 [==============================] - 9s 53ms/step - loss: 0.0774\n",
            "Epoch 301/500\n",
            "174/174 [==============================] - 9s 53ms/step - loss: 0.0696\n",
            "Epoch 302/500\n",
            "174/174 [==============================] - 9s 53ms/step - loss: 0.0651\n",
            "Epoch 303/500\n",
            "174/174 [==============================] - 9s 54ms/step - loss: 0.0648\n",
            "Epoch 304/500\n",
            "174/174 [==============================] - 9s 54ms/step - loss: 0.0666\n",
            "Epoch 305/500\n",
            "174/174 [==============================] - 9s 53ms/step - loss: 0.0747\n",
            "Epoch 306/500\n",
            "174/174 [==============================] - 9s 53ms/step - loss: 0.0897\n",
            "Epoch 307/500\n",
            "174/174 [==============================] - 9s 53ms/step - loss: 0.1083\n",
            "Epoch 308/500\n",
            "174/174 [==============================] - 9s 53ms/step - loss: 0.1236\n",
            "Epoch 309/500\n",
            "174/174 [==============================] - 9s 54ms/step - loss: 0.1289\n",
            "Epoch 310/500\n",
            "174/174 [==============================] - 9s 53ms/step - loss: 0.1154\n",
            "Epoch 311/500\n",
            "174/174 [==============================] - 9s 53ms/step - loss: 0.0995\n",
            "Epoch 312/500\n",
            "174/174 [==============================] - 9s 53ms/step - loss: 0.0838\n",
            "Epoch 313/500\n",
            "174/174 [==============================] - 9s 53ms/step - loss: 0.0727\n",
            "Epoch 314/500\n",
            "174/174 [==============================] - 9s 54ms/step - loss: 0.0645\n",
            "Epoch 315/500\n",
            "174/174 [==============================] - 9s 53ms/step - loss: 0.0605\n",
            "Epoch 316/500\n",
            "174/174 [==============================] - 9s 53ms/step - loss: 0.0614\n",
            "Epoch 317/500\n",
            "174/174 [==============================] - 9s 53ms/step - loss: 0.0665\n",
            "Epoch 318/500\n",
            "174/174 [==============================] - 9s 54ms/step - loss: 0.0790\n",
            "Epoch 319/500\n",
            "174/174 [==============================] - 9s 53ms/step - loss: 0.0973\n",
            "Epoch 320/500\n",
            "174/174 [==============================] - 9s 53ms/step - loss: 0.1188\n",
            "Epoch 321/500\n",
            "174/174 [==============================] - 9s 54ms/step - loss: 0.1338\n",
            "Epoch 322/500\n",
            "174/174 [==============================] - 9s 53ms/step - loss: 0.1260\n",
            "Epoch 323/500\n",
            "174/174 [==============================] - 9s 53ms/step - loss: 0.1076\n",
            "Epoch 324/500\n",
            "174/174 [==============================] - 9s 53ms/step - loss: 0.0877\n",
            "Epoch 325/500\n",
            "174/174 [==============================] - 9s 53ms/step - loss: 0.0728\n",
            "Epoch 326/500\n",
            "174/174 [==============================] - 9s 54ms/step - loss: 0.0636\n",
            "Epoch 327/500\n",
            "174/174 [==============================] - 9s 53ms/step - loss: 0.0584\n",
            "Epoch 328/500\n",
            "174/174 [==============================] - 9s 54ms/step - loss: 0.0567\n",
            "Epoch 329/500\n",
            "174/174 [==============================] - 9s 54ms/step - loss: 0.0612\n",
            "Epoch 330/500\n",
            "174/174 [==============================] - 9s 53ms/step - loss: 0.0700\n",
            "Epoch 331/500\n",
            "174/174 [==============================] - 9s 54ms/step - loss: 0.0875\n",
            "Epoch 332/500\n",
            "174/174 [==============================] - 9s 53ms/step - loss: 0.1083\n",
            "Epoch 333/500\n",
            "174/174 [==============================] - 9s 53ms/step - loss: 0.1320\n",
            "Epoch 334/500\n",
            "174/174 [==============================] - 9s 53ms/step - loss: 0.1392\n",
            "Epoch 335/500\n",
            "174/174 [==============================] - 9s 53ms/step - loss: 0.1209\n",
            "Epoch 336/500\n",
            "174/174 [==============================] - 9s 53ms/step - loss: 0.1008\n",
            "Epoch 337/500\n",
            "174/174 [==============================] - 9s 53ms/step - loss: 0.0829\n",
            "Epoch 338/500\n",
            "174/174 [==============================] - 9s 54ms/step - loss: 0.0694\n",
            "Epoch 339/500\n",
            "174/174 [==============================] - 9s 53ms/step - loss: 0.0597\n",
            "Epoch 340/500\n",
            "174/174 [==============================] - 9s 53ms/step - loss: 0.0543\n",
            "Epoch 341/500\n",
            "174/174 [==============================] - 9s 53ms/step - loss: 0.0523\n",
            "Epoch 342/500\n",
            "174/174 [==============================] - 9s 53ms/step - loss: 0.0541\n",
            "Epoch 343/500\n",
            "174/174 [==============================] - 9s 53ms/step - loss: 0.0633\n",
            "Epoch 344/500\n",
            "174/174 [==============================] - 9s 53ms/step - loss: 0.0826\n",
            "Epoch 345/500\n",
            "174/174 [==============================] - 9s 54ms/step - loss: 0.1228\n",
            "Epoch 346/500\n",
            "174/174 [==============================] - 9s 54ms/step - loss: 0.1563\n",
            "Epoch 347/500\n",
            "174/174 [==============================] - 9s 54ms/step - loss: 0.1550\n",
            "Epoch 348/500\n",
            "174/174 [==============================] - 9s 53ms/step - loss: 0.1274\n",
            "Epoch 349/500\n",
            "174/174 [==============================] - 9s 54ms/step - loss: 0.0947\n",
            "Epoch 350/500\n",
            "174/174 [==============================] - 9s 53ms/step - loss: 0.0719\n",
            "Epoch 351/500\n",
            "174/174 [==============================] - 9s 53ms/step - loss: 0.0573\n",
            "Epoch 352/500\n",
            "174/174 [==============================] - 9s 54ms/step - loss: 0.0486\n",
            "Epoch 353/500\n",
            "174/174 [==============================] - 9s 53ms/step - loss: 0.0439\n",
            "Epoch 354/500\n",
            "174/174 [==============================] - 9s 54ms/step - loss: 0.0442\n",
            "Epoch 355/500\n",
            "174/174 [==============================] - 9s 54ms/step - loss: 0.0482\n",
            "Epoch 356/500\n",
            "174/174 [==============================] - 9s 54ms/step - loss: 0.0604\n",
            "Epoch 357/500\n",
            "174/174 [==============================] - 9s 54ms/step - loss: 0.0907\n",
            "Epoch 358/500\n",
            "174/174 [==============================] - 9s 54ms/step - loss: 0.1466\n",
            "Epoch 359/500\n",
            "174/174 [==============================] - 9s 53ms/step - loss: 0.1853\n",
            "Epoch 360/500\n",
            "174/174 [==============================] - 9s 53ms/step - loss: 0.1685\n",
            "Epoch 361/500\n",
            "174/174 [==============================] - 9s 54ms/step - loss: 0.1262\n",
            "Epoch 362/500\n",
            "174/174 [==============================] - 9s 54ms/step - loss: 0.0914\n",
            "Epoch 363/500\n",
            "174/174 [==============================] - 9s 53ms/step - loss: 0.0665\n",
            "Epoch 364/500\n",
            "174/174 [==============================] - 9s 53ms/step - loss: 0.0518\n",
            "Epoch 365/500\n",
            "174/174 [==============================] - 9s 53ms/step - loss: 0.0428\n",
            "Epoch 366/500\n",
            "174/174 [==============================] - 9s 53ms/step - loss: 0.0383\n",
            "Epoch 367/500\n",
            "174/174 [==============================] - 9s 53ms/step - loss: 0.0369\n",
            "Epoch 368/500\n",
            "174/174 [==============================] - 9s 53ms/step - loss: 0.0397\n",
            "Epoch 369/500\n",
            "174/174 [==============================] - 9s 53ms/step - loss: 0.0490\n",
            "Epoch 370/500\n",
            "174/174 [==============================] - 9s 54ms/step - loss: 0.0787\n",
            "Epoch 371/500\n",
            "174/174 [==============================] - 9s 53ms/step - loss: 0.1511\n",
            "Epoch 372/500\n",
            "174/174 [==============================] - 9s 54ms/step - loss: 0.2217\n",
            "Epoch 373/500\n",
            "174/174 [==============================] - 9s 53ms/step - loss: 0.1983\n",
            "Epoch 374/500\n",
            "174/174 [==============================] - 9s 54ms/step - loss: 0.1416\n",
            "Epoch 375/500\n",
            "174/174 [==============================] - 9s 54ms/step - loss: 0.0950\n",
            "Epoch 376/500\n",
            "174/174 [==============================] - 9s 53ms/step - loss: 0.0658\n",
            "Epoch 377/500\n",
            "174/174 [==============================] - 9s 54ms/step - loss: 0.0492\n",
            "Epoch 378/500\n",
            "174/174 [==============================] - 9s 54ms/step - loss: 0.0390\n",
            "Epoch 379/500\n",
            "174/174 [==============================] - 9s 54ms/step - loss: 0.0329\n",
            "Epoch 380/500\n",
            "174/174 [==============================] - 9s 53ms/step - loss: 0.0304\n",
            "Epoch 381/500\n",
            "174/174 [==============================] - 9s 53ms/step - loss: 0.0307\n",
            "Epoch 382/500\n",
            "174/174 [==============================] - 9s 54ms/step - loss: 0.0351\n",
            "Epoch 383/500\n",
            "174/174 [==============================] - 9s 54ms/step - loss: 0.0507\n",
            "Epoch 384/500\n",
            "174/174 [==============================] - 9s 53ms/step - loss: 0.1148\n",
            "Epoch 385/500\n",
            "174/174 [==============================] - 9s 53ms/step - loss: 0.2476\n",
            "Epoch 386/500\n",
            "174/174 [==============================] - 9s 53ms/step - loss: 0.2665\n",
            "Epoch 387/500\n",
            "174/174 [==============================] - 9s 54ms/step - loss: 0.1872\n",
            "Epoch 388/500\n",
            "174/174 [==============================] - 9s 53ms/step - loss: 0.1156\n",
            "Epoch 389/500\n",
            "174/174 [==============================] - 9s 54ms/step - loss: 0.0730\n",
            "Epoch 390/500\n",
            "174/174 [==============================] - 9s 53ms/step - loss: 0.0515\n",
            "Epoch 391/500\n",
            "174/174 [==============================] - 9s 54ms/step - loss: 0.0392\n",
            "Epoch 392/500\n",
            "174/174 [==============================] - 9s 53ms/step - loss: 0.0311\n",
            "Epoch 393/500\n",
            "174/174 [==============================] - 9s 54ms/step - loss: 0.0272\n",
            "Epoch 394/500\n",
            "174/174 [==============================] - 9s 54ms/step - loss: 0.0244\n",
            "Epoch 395/500\n",
            "174/174 [==============================] - 9s 53ms/step - loss: 0.0246\n",
            "Epoch 396/500\n",
            "174/174 [==============================] - 9s 53ms/step - loss: 0.0281\n",
            "Epoch 397/500\n",
            "174/174 [==============================] - 9s 54ms/step - loss: 0.0452\n",
            "Epoch 398/500\n",
            "174/174 [==============================] - 9s 53ms/step - loss: 0.1270\n",
            "Epoch 399/500\n",
            "174/174 [==============================] - 9s 53ms/step - loss: 0.3323\n",
            "Epoch 400/500\n",
            "174/174 [==============================] - 9s 53ms/step - loss: 0.3174\n",
            "Epoch 401/500\n",
            "174/174 [==============================] - 9s 53ms/step - loss: 0.1961\n",
            "Epoch 402/500\n",
            "174/174 [==============================] - 9s 54ms/step - loss: 0.1154\n",
            "Epoch 403/500\n",
            "174/174 [==============================] - 9s 53ms/step - loss: 0.0702\n",
            "Epoch 404/500\n",
            "174/174 [==============================] - 9s 53ms/step - loss: 0.0471\n",
            "Epoch 405/500\n",
            "174/174 [==============================] - 9s 53ms/step - loss: 0.0341\n",
            "Epoch 406/500\n",
            "174/174 [==============================] - 9s 54ms/step - loss: 0.0262\n",
            "Epoch 407/500\n",
            "174/174 [==============================] - 9s 53ms/step - loss: 0.0215\n",
            "Epoch 408/500\n",
            "174/174 [==============================] - 9s 53ms/step - loss: 0.0186\n",
            "Epoch 409/500\n",
            "174/174 [==============================] - 9s 53ms/step - loss: 0.0176\n",
            "Epoch 410/500\n",
            "174/174 [==============================] - 9s 53ms/step - loss: 0.0174\n",
            "Epoch 411/500\n",
            "174/174 [==============================] - 9s 53ms/step - loss: 0.0198\n",
            "Epoch 412/500\n",
            "174/174 [==============================] - 9s 53ms/step - loss: 0.0332\n",
            "Epoch 413/500\n",
            "174/174 [==============================] - 9s 53ms/step - loss: 0.1856\n",
            "Epoch 414/500\n",
            "174/174 [==============================] - 9s 53ms/step - loss: 0.5343\n",
            "Epoch 415/500\n",
            "174/174 [==============================] - 9s 53ms/step - loss: 0.3726\n",
            "Epoch 416/500\n",
            "174/174 [==============================] - 9s 54ms/step - loss: 0.1982\n",
            "Epoch 417/500\n",
            "174/174 [==============================] - 9s 53ms/step - loss: 0.1094\n",
            "Epoch 418/500\n",
            "174/174 [==============================] - 9s 53ms/step - loss: 0.0656\n",
            "Epoch 419/500\n",
            "174/174 [==============================] - 9s 53ms/step - loss: 0.0425\n",
            "Epoch 420/500\n",
            "174/174 [==============================] - 9s 53ms/step - loss: 0.0302\n",
            "Epoch 421/500\n",
            "174/174 [==============================] - 9s 53ms/step - loss: 0.0225\n",
            "Epoch 422/500\n",
            "174/174 [==============================] - 9s 53ms/step - loss: 0.0177\n",
            "Epoch 423/500\n",
            "174/174 [==============================] - 9s 53ms/step - loss: 0.0146\n",
            "Epoch 424/500\n",
            "174/174 [==============================] - 9s 53ms/step - loss: 0.0123\n",
            "Epoch 425/500\n",
            "174/174 [==============================] - 9s 53ms/step - loss: 0.0109\n",
            "Epoch 426/500\n",
            "174/174 [==============================] - 9s 53ms/step - loss: 0.0110\n",
            "Epoch 427/500\n",
            "174/174 [==============================] - 9s 53ms/step - loss: 0.0130\n",
            "Epoch 428/500\n",
            "174/174 [==============================] - 9s 53ms/step - loss: 0.0220\n",
            "Epoch 429/500\n",
            "174/174 [==============================] - 9s 53ms/step - loss: 0.2438\n",
            "Epoch 430/500\n",
            "174/174 [==============================] - 9s 54ms/step - loss: 0.6998\n",
            "Epoch 431/500\n",
            "174/174 [==============================] - 9s 53ms/step - loss: 0.4407\n",
            "Epoch 432/500\n",
            "174/174 [==============================] - 9s 53ms/step - loss: 0.2300\n",
            "Epoch 433/500\n",
            "174/174 [==============================] - 9s 53ms/step - loss: 0.1279\n",
            "Epoch 434/500\n",
            "174/174 [==============================] - 9s 53ms/step - loss: 0.0750\n",
            "Epoch 435/500\n",
            "174/174 [==============================] - 9s 53ms/step - loss: 0.0471\n",
            "Epoch 436/500\n",
            "174/174 [==============================] - 9s 53ms/step - loss: 0.0316\n",
            "Epoch 437/500\n",
            "174/174 [==============================] - 9s 53ms/step - loss: 0.0226\n",
            "Epoch 438/500\n",
            "174/174 [==============================] - 9s 53ms/step - loss: 0.0169\n",
            "Epoch 439/500\n",
            "174/174 [==============================] - 9s 53ms/step - loss: 0.0130\n",
            "Epoch 440/500\n",
            "174/174 [==============================] - 9s 53ms/step - loss: 0.0102\n",
            "Epoch 441/500\n",
            "174/174 [==============================] - 9s 54ms/step - loss: 0.0084\n",
            "Epoch 442/500\n",
            "174/174 [==============================] - 9s 53ms/step - loss: 0.0072\n",
            "Epoch 443/500\n",
            "174/174 [==============================] - 9s 54ms/step - loss: 0.0064\n",
            "Epoch 444/500\n",
            "174/174 [==============================] - 9s 53ms/step - loss: 0.0059\n",
            "Epoch 445/500\n",
            "174/174 [==============================] - 9s 53ms/step - loss: 0.0064\n",
            "Epoch 446/500\n",
            "174/174 [==============================] - 9s 53ms/step - loss: 0.0074\n",
            "Epoch 447/500\n",
            "174/174 [==============================] - 9s 53ms/step - loss: 0.0237\n",
            "Epoch 448/500\n",
            "174/174 [==============================] - 9s 53ms/step - loss: 0.8653\n",
            "Epoch 449/500\n",
            "174/174 [==============================] - 9s 53ms/step - loss: 0.8739\n",
            "Epoch 450/500\n",
            "174/174 [==============================] - 9s 53ms/step - loss: 0.4684\n",
            "Epoch 451/500\n",
            "174/174 [==============================] - 9s 53ms/step - loss: 0.2553\n",
            "Epoch 452/500\n",
            "174/174 [==============================] - 9s 54ms/step - loss: 0.1449\n",
            "Epoch 453/500\n",
            "174/174 [==============================] - 9s 54ms/step - loss: 0.0874\n",
            "Epoch 454/500\n",
            "174/174 [==============================] - 9s 53ms/step - loss: 0.0557\n",
            "Epoch 455/500\n",
            "174/174 [==============================] - 9s 53ms/step - loss: 0.0369\n",
            "Epoch 456/500\n",
            "174/174 [==============================] - 9s 53ms/step - loss: 0.0259\n",
            "Epoch 457/500\n",
            "174/174 [==============================] - 9s 54ms/step - loss: 0.0189\n",
            "Epoch 458/500\n",
            "174/174 [==============================] - 9s 53ms/step - loss: 0.0144\n",
            "Epoch 459/500\n",
            "174/174 [==============================] - 9s 53ms/step - loss: 0.0114\n",
            "Epoch 460/500\n",
            "174/174 [==============================] - 9s 53ms/step - loss: 0.0093\n",
            "Epoch 461/500\n",
            "174/174 [==============================] - 9s 54ms/step - loss: 0.0083\n",
            "Epoch 462/500\n",
            "174/174 [==============================] - 9s 53ms/step - loss: 0.0094\n",
            "Epoch 463/500\n",
            "174/174 [==============================] - 9s 53ms/step - loss: 0.0082\n",
            "Epoch 464/500\n",
            "174/174 [==============================] - 9s 53ms/step - loss: 0.0085\n",
            "Epoch 465/500\n",
            "174/174 [==============================] - 9s 53ms/step - loss: 0.0091\n",
            "Epoch 466/500\n",
            "174/174 [==============================] - 9s 53ms/step - loss: 0.0178\n",
            "Epoch 467/500\n",
            "174/174 [==============================] - 9s 54ms/step - loss: 0.6021\n",
            "Epoch 468/500\n",
            "174/174 [==============================] - 9s 53ms/step - loss: 0.8550\n",
            "Epoch 469/500\n",
            "174/174 [==============================] - 9s 53ms/step - loss: 0.4766\n",
            "Epoch 470/500\n",
            "174/174 [==============================] - 9s 54ms/step - loss: 0.2659\n",
            "Epoch 471/500\n",
            "174/174 [==============================] - 9s 53ms/step - loss: 0.1562\n",
            "Epoch 472/500\n",
            "174/174 [==============================] - 9s 54ms/step - loss: 0.0937\n",
            "Epoch 473/500\n",
            "174/174 [==============================] - 9s 54ms/step - loss: 0.0594\n",
            "Epoch 474/500\n",
            "174/174 [==============================] - 9s 53ms/step - loss: 0.0391\n",
            "Epoch 475/500\n",
            "174/174 [==============================] - 9s 53ms/step - loss: 0.0269\n",
            "Epoch 476/500\n",
            "174/174 [==============================] - 9s 53ms/step - loss: 0.0195\n",
            "Epoch 477/500\n",
            "174/174 [==============================] - 9s 53ms/step - loss: 0.0148\n",
            "Epoch 478/500\n",
            "174/174 [==============================] - 9s 54ms/step - loss: 0.0128\n",
            "Epoch 479/500\n",
            "174/174 [==============================] - 9s 53ms/step - loss: 0.0109\n",
            "Epoch 480/500\n",
            "174/174 [==============================] - 9s 53ms/step - loss: 0.0092\n",
            "Epoch 481/500\n",
            "174/174 [==============================] - 9s 54ms/step - loss: 0.0080\n",
            "Epoch 482/500\n",
            "174/174 [==============================] - 9s 54ms/step - loss: 0.0078\n",
            "Epoch 483/500\n",
            "174/174 [==============================] - 9s 54ms/step - loss: 0.0091\n",
            "Epoch 484/500\n",
            "174/174 [==============================] - 9s 54ms/step - loss: 0.0126\n",
            "Epoch 485/500\n",
            "174/174 [==============================] - 9s 53ms/step - loss: 0.1683\n",
            "Epoch 486/500\n",
            "174/174 [==============================] - 9s 53ms/step - loss: 0.8580\n",
            "Epoch 487/500\n",
            "174/174 [==============================] - 9s 53ms/step - loss: 0.5692\n",
            "Epoch 488/500\n",
            "174/174 [==============================] - 9s 53ms/step - loss: 0.3194\n",
            "Epoch 489/500\n",
            "174/174 [==============================] - 9s 53ms/step - loss: 0.1815\n",
            "Epoch 490/500\n",
            "174/174 [==============================] - 9s 54ms/step - loss: 0.1099\n",
            "Epoch 491/500\n",
            "174/174 [==============================] - 9s 53ms/step - loss: 0.0699\n",
            "Epoch 492/500\n",
            "174/174 [==============================] - 9s 53ms/step - loss: 0.0453\n",
            "Epoch 493/500\n",
            "174/174 [==============================] - 9s 53ms/step - loss: 0.0304\n",
            "Epoch 494/500\n",
            "174/174 [==============================] - 9s 54ms/step - loss: 0.0210\n",
            "Epoch 495/500\n",
            "174/174 [==============================] - 9s 53ms/step - loss: 0.0151\n",
            "Epoch 496/500\n",
            "174/174 [==============================] - 9s 54ms/step - loss: 0.0117\n",
            "Epoch 497/500\n",
            "174/174 [==============================] - 9s 53ms/step - loss: 0.0094\n",
            "Epoch 498/500\n",
            "174/174 [==============================] - 9s 53ms/step - loss: 0.0079\n",
            "Epoch 499/500\n",
            "174/174 [==============================] - 9s 53ms/step - loss: 0.0068\n",
            "Epoch 500/500\n",
            "174/174 [==============================] - 9s 53ms/step - loss: 0.0061\n"
          ]
        }
      ]
    },
    {
      "cell_type": "markdown",
      "source": [
        "Model Performance Evaluation"
      ],
      "metadata": {
        "id": "tDDBFxWc8RwE"
      }
    },
    {
      "cell_type": "markdown",
      "source": [
        "Visualizing the losses over epochs may help get better insight on model performance."
      ],
      "metadata": {
        "id": "BSu4mdWE8Vfo"
      }
    },
    {
      "cell_type": "code",
      "source": [
        "plt.plot(history.history['loss'], '+-r')\n",
        "plt.title('Performance Analysis', size=16, color='green')\n",
        "plt.xlabel('Epochs', size=14, color='blue')\n",
        "plt.ylabel('Loss', size=14, color='blue')\n",
        "plt.xticks(range(10))\n",
        "plt.show()"
      ],
      "metadata": {
        "id": "3KgomgNs7AV-",
        "colab": {
          "base_uri": "https://localhost:8080/",
          "height": 479
        },
        "outputId": "a6ef0632-3ff6-4c9d-a51a-d23ae6924a65"
      },
      "execution_count": 24,
      "outputs": [
        {
          "output_type": "display_data",
          "data": {
            "text/plain": [
              "<Figure size 640x480 with 1 Axes>"
            ],
            "image/png": "[encoded data removed]"
          },
          "metadata": {}
        }
      ]
    },
    {
      "cell_type": "markdown",
      "source": [
        "Loss keeps on falling down even till the 10th epoch. It suggests that the model should be trained for more epochs until convergence occurs. The smoothness in the loss curve suggests that the learning rate is proper for this model configuration."
      ],
      "metadata": {
        "id": "sApoKoef8hTk"
      }
    },
    {
      "cell_type": "markdown",
      "source": [
        "Inference – Next Character Prediction"
      ],
      "metadata": {
        "id": "-l6eC5cA8kkW"
      }
    },
    {
      "cell_type": "markdown",
      "source": [
        "The most awaited part of this task is predicting the next character with the trained model. We can input the model some characters (probably a word) such that it will iteratively predict the next 1000 characters.\n",
        "\n",
        "Before starting prediction with the model, we should reset the model states that were stored in the memory during the last epoch training. However, resetting state memories will not affect the model’s weights."
      ],
      "metadata": {
        "id": "dd_PZOugATGg"
      }
    },
    {
      "cell_type": "code",
      "source": [
        "# reset previous states of model\n",
        "model.reset_states()"
      ],
      "metadata": {
        "id": "QP2JFBsX8cLi"
      },
      "execution_count": 25,
      "outputs": []
    },
    {
      "cell_type": "markdown",
      "source": [
        " Make predictions by providing the model ‘ANTHONIO:’ as input characters. Nevertheless, the model expects data in three dimensions: the first dimension being the batch size, 64. Vectorize the input characters, expand the dimensions, broadcast the same vector 64 times to obtain a batch of size 64 sequences. Predictions are made based on the logits output by the model. This can be sensitively adjusted by tuning a hyper-parameter called temperature, which refers to the level of randomness in choosing the probable outcome."
      ],
      "metadata": {
        "id": "tdIzdn6lAk4c"
      }
    },
    {
      "cell_type": "code",
      "source": [
        "sample = 'ANTHONIO:'\n",
        "# vectorize the string\n",
        "sample_vector = [tokenizer[s] for s in sample]\n",
        "predicted = sample_vector\n",
        "# convert into tensor of required dimensions\n",
        "sample_tensor = tf.expand_dims(sample_vector, 0)\n",
        "# broadcast to first dimension to 64\n",
        "sample_tensor = tf.repeat(sample_tensor, 64, axis=0)\n",
        "\n",
        "# predict next 1000 characters\n",
        "# temperature is a sensitive variable to adjust prediction\n",
        "temperature = 0.6\n",
        "\n",
        "for i in range(1000):\n",
        "  pred = model(sample_tensor)\n",
        "  # reduce unnecessary dimensions\n",
        "  pred = pred[0].numpy()/temperature\n",
        "  pred = tf.random.categorical(pred, num_samples=1)[-1,0].numpy()\n",
        "  predicted.append(pred)\n",
        "  sample_tensor = predicted[-99:]\n",
        "  sample_tensor = tf.expand_dims([pred],0)\n",
        "  # broadcast to first dimension to 64\n",
        "  sample_tensor = tf.repeat(sample_tensor, 64, axis=0)\n",
        "\n",
        "# convert the integers back to characters\n",
        "pred_char = [vocabulary[i] for i in predicted]\n",
        "generated = ''.join(pred_char)\n",
        "print(generated)"
      ],
      "metadata": {
        "id": "b2Tj_yz9AZwg",
        "colab": {
          "base_uri": "https://localhost:8080/"
        },
        "outputId": "03940066-417e-4b4b-e499-b5b7373711f1"
      },
      "execution_count": 26,
      "outputs": [
        {
          "output_type": "stream",
          "name": "stdout",
          "text": [
            "ANTHONIO:JHjANT:\n",
            "How doth my hear off, my lord?\n",
            "\n",
            "PERDITA:\n",
            "How often he had met you, sword to sword;\n",
            "That of all things upon the earth he hated\n",
            "tonher you our courtesy.\n",
            "\n",
            "ISABELLA:\n",
            "I garden-house\n",
            "He knew me as a wife. As this is true,\n",
            "Let me in safety raise me from my knees\n",
            "Or else your voices my place in my achil\n",
            "And of your love and pitiful in the rein: here in the view of men\n",
            "I will unfold some causes of your brother!\n",
            "You, Lord of England, look attend you on him as his wife.\n",
            "\n",
            "All The supsess of her fanthom are cause to speak.\n",
            "\n",
            "Clown:\n",
            "What are you, sir?\n",
            "\n",
            "ELBOW:\n",
            "He, sir! a tapster, sir; parcius with health and half a melold day.\n",
            "\n",
            "LUCIO:\n",
            "My lord, hath some feeling husband, he has with you.\n",
            "\n",
            "LUCIO:\n",
            "\n",
            "ISABELLA:\n",
            "Too late? why, no; I, that drst thy name and crown\n",
            "To Henry Bolingbroke, the odds of woe?\n",
            "Never she your sightes and the rapicious head,\n",
            "And reason with a righteous gentleman!\n",
            "That I, we are gone shall prove infect another\n",
            "As is the beggar's poston with it with my heart!\n",
            "\n",
            "KING EDWARD IV:\n",
            "Mada\n"
          ]
        }
      ]
    },
    {
      "cell_type": "markdown",
      "source": [
        "By adjusting the temperature value, we can vary randomness and obtain different predictions.\n"
      ],
      "metadata": {
        "id": "3bu3pbdBA79i"
      }
    },
    {
      "cell_type": "code",
      "source": [
        "sample = 'ANTHONIO:'\n",
        "# vectorize the string\n",
        "sample_vector = [tokenizer[s] for s in sample]\n",
        "predicted = sample_vector\n",
        "# convert into tensor of required dimensions\n",
        "sample_tensor = tf.expand_dims(sample_vector, 0)\n",
        "# broadcast to first dimension to 64\n",
        "sample_tensor = tf.repeat(sample_tensor, 64, axis=0)\n",
        "\n",
        "# predict next 1000 characters\n",
        "# temperature is a sensitive variable to adjust prediction\n",
        "temperature = 0.8\n",
        "\n",
        "for i in range(1000):\n",
        "  pred = model(sample_tensor)\n",
        "  # reduce unnecessary dimensions\n",
        "  pred = pred[0].numpy()/temperature\n",
        "  pred = tf.random.categorical(pred, num_samples=1)[-1,0].numpy()\n",
        "  predicted.append(pred)\n",
        "  sample_tensor = predicted[-99:]\n",
        "  sample_tensor = tf.expand_dims([pred],0)\n",
        "  # broadcast to first dimension to 64\n",
        "  sample_tensor = tf.repeat(sample_tensor, 64, axis=0)\n",
        "\n",
        "# convert the integers back to characters\n",
        "pred_char = [vocabulary[i] for i in predicted]\n",
        "generated = ''.join(pred_char)\n",
        "print(generated)"
      ],
      "metadata": {
        "id": "RduLV6QlA46H",
        "colab": {
          "base_uri": "https://localhost:8080/"
        },
        "outputId": "f783ead3-da90-4c7d-bcdb-e6b9c6268a52"
      },
      "execution_count": 27,
      "outputs": [
        {
          "output_type": "stream",
          "name": "stdout",
          "text": [
            "ANTHONIO:\n",
            "Sir, what are you that offer to beat my soul; let's hence;\n",
            "And better will they follow in\n",
            "The murder; and yet still shall marry him with her.\n",
            "Put not a visitation for her limit of it.\n",
            "\n",
            "PAULINA:\n",
            "That\n",
            "Shalt with all my love to give So, but sting the rest rest\n",
            "dies made him sayot; but I will weep the\n",
            "singleness or praise me now my father's door,\n",
            "Who, with a gronger thing before and Englilia,\n",
            "With his tongue viol with her that she make hand\n",
            "o here were he that kson her gr str business now our country I\n",
            "Or it extruch for your high perform itself.\n",
            "\n",
            "PETRUCHIO:\n",
            "Villain, I say, knock me at this gate\n",
            "And rap me well, or I'll knock your king's, my duke?\n",
            "\n",
            "CAPULET:\n",
            "Poor sint\n",
            "'I' as horse is come to him at least.\n",
            "\n",
            "ISABELLA:\n",
            "I garden-house\n",
            "He knew me as a wife. As this is true,\n",
            "Let me in safety raise me from my knees\n",
            "Or else your voices made the office\n",
            "To each leave to all I gone in work,\n",
            "Pipath the arm of my mouth is as an ETHARD that are hour at Laurence' cell,\n",
            "And all my words above, which they f\n"
          ]
        }
      ]
    }
  ]
}